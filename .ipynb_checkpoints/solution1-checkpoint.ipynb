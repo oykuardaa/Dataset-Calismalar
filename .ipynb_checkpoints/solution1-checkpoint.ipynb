{
 "cells": [
  {
   "cell_type": "code",
   "execution_count": 19,
   "id": "abecfdd5-c8c9-4c63-9ac0-74ac6b5b1447",
   "metadata": {},
   "outputs": [
    {
     "name": "stderr",
     "output_type": "stream",
     "text": [
      "usage: ipykernel_launcher.py [-h] [--min-date MIN_DATE] [--max-date MAX_DATE]\n",
      "ipykernel_launcher.py: error: unrecognized arguments: -f C:\\Users\\oykua\\AppData\\Roaming\\jupyter\\runtime\\kernel-e7898710-cbe0-4470-b722-dd35d088214e.json\n"
     ]
    },
    {
     "ename": "SystemExit",
     "evalue": "2",
     "output_type": "error",
     "traceback": [
      "An exception has occurred, use %tb to see the full traceback.\n",
      "\u001b[1;31mSystemExit\u001b[0m\u001b[1;31m:\u001b[0m 2\n"
     ]
    }
   ],
   "source": [
    "import pandas as pd\n",
    "import argparse\n",
    "\n",
    "# Komut satırı argümanları\n",
    "parser = argparse.ArgumentParser(description=\"Ürün özellikleri oluştur.\")\n",
    "parser.add_argument(\"--min-date\", type=str, default=\"2021-01-08\", help=\"Başlangıç tarihi, format: 'YYYY-MM-DD'\")\n",
    "parser.add_argument(\"--max-date\", type=str, default=\"2021-05-30\", help=\"Bitiş tarihi, format: 'YYYY-MM-DD'\")\n",
    "args = parser.parse_args()\n",
    "\n",
    "# Veriyi yükleme\n",
    "brand_df = pd.read_csv(\"brand.csv\")\n",
    "product_df = pd.read_csv(\"product.csv\")\n",
    "store_df = pd.read_csv(\"store.csv\")\n",
    "sales_df = pd.read_csv(\"sales.csv\")\n",
    "\n",
    "# brad name ve brand id ile sözlük\n",
    "brand_name_to_id = dict(zip(brand_df[\"name\"], brand_df[\"id\"]))\n",
    "\n",
    "# Marka adlarına karşılık gelen brand_id'leri product_df'e ekleme\n",
    "product_df[\"brand_id\"] = product_df[\"brand\"].map(brand_name_to_id)\n",
    "\n",
    "# Verileri birleştirme\n",
    "merged_sales_df = sales_df.merge(product_df, left_on=\"product\", right_on=\"id\")\n",
    "merged_sales_df = merged_sales_df.merge(store_df, left_on=\"store\", right_on=\"id\")\n",
    "merged_sales_df = merged_sales_df.merge(brand_df, left_on=\"brand_id\", right_on=\"id\", suffixes=(\"\", \"_brand\"))\n",
    "\n",
    "# Tarih sütununu tarih formatına çevirme\n",
    "merged_sales_df[\"date\"] = pd.to_datetime(merged_sales_df[\"date\"])\n",
    "\n",
    "# Tarih aralığına göre veriyi filtreleme\n",
    "filtered_sales_df = merged_sales_df[(merged_sales_df[\"date\"] >= pd.to_datetime(args.min_date)) & (merged_sales_df[\"date\"] <= pd.to_datetime(args.max_date))].copy()\n",
    "\n",
    "# Ürün özelliklerini hesaplama\n",
    "filtered_sales_df[\"MA7_P\"] = filtered_sales_df.groupby(\"product\")[\"quantity\"].rolling(window=7, min_periods=1).mean().reset_index(level=0, drop=True)\n",
    "filtered_sales_df[\"LAG7_P\"] = filtered_sales_df.groupby(\"product\")[\"quantity\"].shift(7)\n",
    "\n",
    "# Marka özelliklerini hesaplama\n",
    "filtered_sales_df[\"MA7_B\"] = filtered_sales_df.groupby([\"brand_id\", \"store_id\"])[\"quantity\"].rolling(window=7, min_periods=1).mean().reset_index(level=0, drop=True)\n",
    "filtered_sales_df[\"LAG7_B\"] = filtered_sales_df.groupby([\"brand_id\", \"store_id\"])[\"quantity\"].shift(7)\n",
    "\n",
    "# Mağaza özelliklerini hesaplama\n",
    "filtered_sales_df[\"MA7_S\"] = filtered_sales_df.groupby(\"store_id\")[\"quantity\"].rolling(window=7, min_periods=1).mean().reset_index(level=0, drop=True)\n",
    "filtered_sales_df[\"LAG7_S\"] = filtered_sales_df.groupby(\"store_id\")[\"quantity\"].shift(7)\n",
    "\n",
    "# Sütunları seçme ve yeniden düzenleme\n",
    "output_columns = [\n",
    "    \"product\", \"store_id\", \"brand_id\", \"date\", \"quantity\",\n",
    "    \"MA7_P\", \"LAG7_P\", \"MA7_B\", \"LAG7_B\", \"MA7_S\", \"LAG7_S\"\n",
    "]\n",
    "output_df = filtered_sales_df[output_columns]\n",
    "\n",
    "# Çıktıyı sıralama\n",
    "output_df = output_df.sort_values(by=[\"product\", \"brand_id\", \"store_id\", \"date\"])\n",
    "\n",
    "# Çıktıyı CSV olarak yazma\n",
    "output_df.to_csv(\"features.csv\", index=False)\n"
   ]
  },
  {
   "cell_type": "code",
   "execution_count": null,
   "id": "b65b1376-7fff-4bb3-bed8-3376762a3e89",
   "metadata": {},
   "outputs": [],
   "source": []
  }
 ],
 "metadata": {
  "kernelspec": {
   "display_name": "Python 3 (ipykernel)",
   "language": "python",
   "name": "python3"
  },
  "language_info": {
   "codemirror_mode": {
    "name": "ipython",
    "version": 3
   },
   "file_extension": ".py",
   "mimetype": "text/x-python",
   "name": "python",
   "nbconvert_exporter": "python",
   "pygments_lexer": "ipython3",
   "version": "3.10.11"
  }
 },
 "nbformat": 4,
 "nbformat_minor": 5
}
